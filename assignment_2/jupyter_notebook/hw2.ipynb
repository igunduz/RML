{
  "cells": [
    {
      "cell_type": "code",
      "execution_count": null,
      "metadata": {
        "id": "FKZDMi_5iKCA"
      },
      "outputs": [],
      "source": [
        "import numpy as np\n",
        "import matplotlib.pyplot as plt\n",
        "import matplotlib\n",
        "from mpl_toolkits.mplot3d import Axes3D\n",
        "from matplotlib.colors import LightSource\n",
        "\n",
        "%matplotlib inline\n",
        "%config InlineBackend.figure_format = 'svg'"
      ]
    },
    {
      "cell_type": "code",
      "execution_count": null,
      "metadata": {
        "colab": {
          "base_uri": "https://localhost:8080/"
        },
        "id": "e-A0EQP5iN5L",
        "outputId": "ee2fb2d9-43b0-4650-b07e-05755d75ceac"
      },
      "outputs": [],
      "source": [
        "import torch\n",
        "import torch.nn as nn\n",
        "import torch.optim as optim\n",
        "from torchvision import datasets, transforms\n",
        "from torch.utils.data import DataLoader\n",
        "\n",
        "# download MNIST training and testing datasets, then prepare corresponding dataloaders (batch size = 100)\n",
        "mnist_train = datasets.MNIST(\"../data\", train=True, download=True, transform=transforms.ToTensor())\n",
        "mnist_test = datasets.MNIST(\"../data\", train=False, download=True, transform=transforms.ToTensor())\n",
        "train_loader = DataLoader(mnist_train, batch_size = 100, shuffle=True)\n",
        "test_loader = DataLoader(mnist_test, batch_size = 100, shuffle=False)\n",
        "\n",
        "device = torch.device(\"cuda:0\" if torch.cuda.is_available() else \"cpu\")"
      ]
    },
    {
      "cell_type": "code",
      "execution_count": null,
      "metadata": {
        "id": "PjUrtvq_iUbQ"
      },
      "outputs": [],
      "source": [
        "# initialize the CNN architecture with 4 convolutional layers and 2 MLP layers for standard training\n",
        "torch.manual_seed(0)\n",
        "\n",
        "class Flatten(nn.Module):\n",
        "    def forward(self, x):\n",
        "        return x.view(x.shape[0], -1)\n",
        "\n",
        "model_cnn = nn.Sequential(nn.Conv2d(1, 32, 3, padding=1), nn.ReLU(),\n",
        "                          nn.Conv2d(32, 32, 3, padding=1, stride=2), nn.ReLU(),\n",
        "                          nn.Conv2d(32, 64, 3, padding=1), nn.ReLU(),\n",
        "                          nn.Conv2d(64, 64, 3, padding=1, stride=2), nn.ReLU(),\n",
        "                          Flatten(),\n",
        "                          nn.Linear(7*7*64, 100), nn.ReLU(),\n",
        "                          nn.Linear(100, 10)).to(device)"
      ]
    },
    {
      "cell_type": "code",
      "execution_count": null,
      "metadata": {
        "id": "M_cv5SjtiWZE"
      },
      "outputs": [],
      "source": [
        "#### Your task: complete the following function\n",
        "def pgd(model, X, y, epsilon=0.1, alpha=0.02, num_iter=10, randomize=False):\n",
        "    \"\"\" Construct PGD adversarial examples for the example (X,y)\"\"\"\n",
        "\n",
        "    return"
      ]
    },
    {
      "cell_type": "code",
      "execution_count": null,
      "metadata": {
        "id": "N6yvOm8ciZUL"
      },
      "outputs": [],
      "source": [
        "#### Your task: complete the following functions\n",
        "def epoch(loader, model, opt=None):\n",
        "    \"\"\"Standard training/evaluation epoch over the dataset\"\"\"\n",
        "\n",
        "    return\n",
        "\n",
        "\n",
        "def epoch_adv(loader, model, attack, opt=None, **kwargs):\n",
        "    \"\"\"Adversarial training/evaluation epoch over the dataset\"\"\"\n",
        "\n",
        "    return"
      ]
    },
    {
      "cell_type": "code",
      "execution_count": null,
      "metadata": {
        "colab": {
          "base_uri": "https://localhost:8080/"
        },
        "id": "HDwITEWRiaxv",
        "outputId": "9025c132-fc70-4df8-f630-42394a9ca2b9"
      },
      "outputs": [],
      "source": [
        "# specify the optimizer as SGD\n",
        "opt = optim.SGD(model_cnn.parameters(), lr=1e-1)\n",
        "\n",
        "# standard training\n",
        "for t in range(5):\n",
        "    train_err, train_loss = epoch(train_loader, model_cnn, opt)\n",
        "    test_err, test_loss = epoch(test_loader, model_cnn)\n",
        "    adv_err, adv_loss = epoch_adv(test_loader, model_cnn, pgd)\n",
        "\n",
        "    print(*(\"{:.6f}\".format(i) for i in (train_err, test_err, adv_err)), sep=\"\\t\")\n",
        "\n",
        "# save the standard trained model for further evaluation\n",
        "torch.save(model_cnn.state_dict(), \"model_cnn.pt\")"
      ]
    },
    {
      "cell_type": "code",
      "execution_count": null,
      "metadata": {
        "id": "4Dht-vSxlloO"
      },
      "outputs": [],
      "source": [
        "# use the same CNN architecture for robust training\n",
        "model_cnn_robust = nn.Sequential(nn.Conv2d(1, 32, 3, padding=1), nn.ReLU(),\n",
        "                                 nn.Conv2d(32, 32, 3, padding=1, stride=2), nn.ReLU(),\n",
        "                                 nn.Conv2d(32, 64, 3, padding=1), nn.ReLU(),\n",
        "                                 nn.Conv2d(64, 64, 3, padding=1, stride=2), nn.ReLU(),\n",
        "                                 Flatten(),\n",
        "                                 nn.Linear(7*7*64, 100), nn.ReLU(),\n",
        "                                 nn.Linear(100, 10)).to(device)"
      ]
    },
    {
      "cell_type": "code",
      "execution_count": null,
      "metadata": {
        "colab": {
          "base_uri": "https://localhost:8080/"
        },
        "id": "3KKsmaBalooX",
        "outputId": "504c3da5-dcf7-455d-9808-bc21e3b8bc91"
      },
      "outputs": [],
      "source": [
        "# specify the optimizer as SGD\n",
        "opt = optim.SGD(model_cnn_robust.parameters(), lr=1e-1)\n",
        "\n",
        "# PGD-based adversarial training\n",
        "for t in range(5):\n",
        "    train_err, train_loss = epoch_adv(train_loader, model_cnn_robust, pgd, opt)\n",
        "    test_err, test_loss = epoch(test_loader, model_cnn_robust)\n",
        "    adv_err, adv_loss = epoch_adv(test_loader, model_cnn_robust, pgd)\n",
        "\n",
        "    print(*(\"{:.6f}\".format(i) for i in (train_err, test_err, adv_err)), sep=\"\\t\")\n",
        "\n",
        "# save the standard trained model for further evaluation\n",
        "torch.save(model_cnn_robust.state_dict(), \"model_cnn_robust.pt\")"
      ]
    },
    {
      "cell_type": "code",
      "execution_count": null,
      "metadata": {
        "id": "fT5MZujiN9Da"
      },
      "outputs": [],
      "source": [
        "# load the standard trained and adversarially trained models\n",
        "model_cnn.load_state_dict(torch.load(\"model_cnn.pt\"))\n",
        "model_cnn_robust.load_state_dict(torch.load(\"model_cnn_robust.pt\"))"
      ]
    },
    {
      "cell_type": "code",
      "execution_count": null,
      "metadata": {
        "id": "f48ELj_UN-uI"
      },
      "outputs": [],
      "source": [
        "def fgsm(model, X, y, epsilon=0.1):\n",
        "    \"\"\" Construct FGSM adversarial examples for the example (X,y)\"\"\"\n",
        "    delta = torch.zeros_like(X, requires_grad=True)\n",
        "    loss = nn.CrossEntropyLoss()(model(X + delta), y)\n",
        "    loss.backward()\n",
        "    return epsilon * delta.grad.detach().sign()"
      ]
    },
    {
      "cell_type": "code",
      "execution_count": null,
      "metadata": {
        "id": "ecDX3ziXPibw"
      },
      "outputs": [],
      "source": [
        "# clean performance (no attack)\n",
        "print(\"clean:\", \"{:.4f}\".format(epoch(test_loader, model_cnn)[0]),\n",
        "      \"{:.4f}\".format(epoch(test_loader, model_cnn_robust)[0]))\n",
        "\n",
        "# evaluate both models using FGSM attack\n",
        "print(\"FGSM: \", \"{:.4f}\".format(epoch_adv(test_loader, model_cnn, fgsm)[0]),\n",
        "      \"{:.4f}\".format(epoch_adv(test_loader, model_cnn_robust, fgsm)[0]))\n",
        "\n",
        "# evaluate both models using PGD attack\n",
        "print(\"PGD (10 iter):\", \"{:.4f}\".format(epoch_adv(test_loader, model_cnn, pgd, num_iter=10)[0]),\n",
        "      \"{:.4f}\".format(epoch_adv(test_loader, model_cnn_robust, pgd, num_iter=10)[0]))"
      ]
    },
    {
      "cell_type": "code",
      "execution_count": null,
      "metadata": {
        "id": "-EfxdKahQL3v"
      },
      "outputs": [],
      "source": [
        "#### Your task (bonus): develop an attack method to achieve an attack success rate as high as possible. You can modify the following function if needed.\n",
        "\n",
        "# You can try out some of the attack methods introduced in Lectures 3-4 or develop your unique creative attack.\n",
        "# In principle, the performance of your attack should be better than FGSM or PGD, 10 iter;\n",
        "# The higher attack success rates you can achieve, the higher credits you may receive.\n",
        "\n",
        "def my_attack(model, X, y, epsilon=0.1):\n",
        "  \"\"\" Construct adversarial examples for the example (X,y)\"\"\"\n",
        "\n",
        "  return"
      ]
    },
    {
      "cell_type": "code",
      "execution_count": null,
      "metadata": {
        "id": "aQVHww4GRwn6"
      },
      "outputs": [],
      "source": [
        "print(\"My Attack: \", \"{:.4f}\".format(epoch_adv(test_loader, model_cnn, my_attack)[0]), \n",
        "      \"{:.4f}\".format(epoch_adv(test_loader, model_cnn_robust, my_attack)[0]))"
      ]
    }
  ],
  "metadata": {
    "accelerator": "GPU",
    "colab": {
      "provenance": []
    },
    "kernelspec": {
      "display_name": "Python 3",
      "name": "python3"
    },
    "language_info": {
      "name": "python"
    }
  },
  "nbformat": 4,
  "nbformat_minor": 0
}
