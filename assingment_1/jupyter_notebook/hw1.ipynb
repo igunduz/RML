{
 "cells": [
  {
   "cell_type": "code",
   "execution_count": null,
   "id": "7f762b85-d1e0-4d9d-aac1-7910821c93f9",
   "metadata": {},
   "outputs": [],
   "source": [
    "#### Homework Assignment 1: Adversarial Examples\n",
    "\n",
    "## This jupyter notebook aims to get familiar with the untargted and targeted methods for generating adversarial examples\n",
    "## We will try to attack a pretrained ImageNet ResNet50 model on a given ImageNet image .\n",
    "\n",
    "import numpy as np\n",
    "import matplotlib.pyplot as plt\n",
    "import matplotlib\n",
    "\n",
    "%matplotlib inline\n",
    "%config InlineBackend.figure_format = 'svg'"
   ]
  },
  {
   "cell_type": "code",
   "execution_count": null,
   "id": "0f64e2de-48db-44db-9bb9-686b402c8e24",
   "metadata": {},
   "outputs": [],
   "source": [
    "## Load the sample ImageNet image (which is an image of ladybug) and visualize it \n",
    "\n",
    "from PIL import Image\n",
    "from torchvision import transforms\n",
    "\n",
    "# read the image, resize to 224 and convert to PyTorch Tensor\n",
    "ladybug_img = Image.open(\"ladybug.jpg\")\n",
    "\n",
    "preprocess = transforms.Compose([\n",
    "   transforms.Resize(224),\n",
    "   transforms.ToTensor(),\n",
    "])\n",
    "ladybug_tensor = preprocess(ladybug_img)[None,:,:,:]\n",
    "\n",
    "# plot image (note that numpy using HWC whereas Pytorch user CHW, so we need to convert)\n",
    "plt.imshow(ladybug_tensor[0].numpy().transpose(1,2,0))"
   ]
  },
  {
   "cell_type": "code",
   "execution_count": null,
   "id": "919ab0c2-f287-4812-b9ab-8685b2f81b07",
   "metadata": {},
   "outputs": [],
   "source": [
    "## Prepare the ImageNet ResNet50 classification model\n",
    "import torch\n",
    "import torch.nn as nn\n",
    "from torchvision.models import resnet50\n",
    "\n",
    "# simple Module to normalize an image\n",
    "class Normalize(nn.Module):\n",
    "    def __init__(self, mean, std):\n",
    "        super(Normalize, self).__init__()\n",
    "        self.mean = torch.Tensor(mean)\n",
    "        self.std = torch.Tensor(std)\n",
    "    def forward(self, x):\n",
    "        return (x - self.mean.type_as(x)[None,:,None,None]) / self.std.type_as(x)[None,:,None,None]\n",
    "\n",
    "# values are standard normalization for ImageNet images, \n",
    "# from https://github.com/pytorch/examples/blob/master/imagenet/main.py\n",
    "norm = Normalize(mean=[0.485, 0.456, 0.406], std=[0.229, 0.224, 0.225])\n",
    "\n",
    "# load pre-trained ResNet50, and put into evaluation mode\n",
    "model = resnet50(pretrained=True)\n",
    "model.eval()"
   ]
  },
  {
   "cell_type": "code",
   "execution_count": null,
   "id": "35567e6d-931f-44d9-9fd6-562e7a7b6ade",
   "metadata": {},
   "outputs": [],
   "source": [
    "import json\n",
    "with open(\"imagenet_class_index.json\") as f:\n",
    "    imagenet_classes = {int(i):x[1] for i,x in json.load(f).items()}\n",
    "\n",
    "# form the prediction on the clean ladybug image\n",
    "pred_ladybug = model(norm(ladybug_tensor))\n",
    "print(imagenet_classes[pred_ladybug.max(dim=1)[1].item()])"
   ]
  },
  {
   "cell_type": "code",
   "execution_count": null,
   "id": "636427cc-022c-4837-a45e-4de05d98afa9",
   "metadata": {},
   "outputs": [],
   "source": [
    "# 301 is the class index corresponding to the ImageNet class \"ladybug\"\n",
    "# form the cross-entropy loss on the prediction according to the ground truth label\n",
    "print(nn.CrossEntropyLoss()(model(norm(ladybug_tensor)),torch.LongTensor([301])).item())"
   ]
  },
  {
   "cell_type": "code",
   "execution_count": null,
   "id": "ba69afe2-c5cb-4786-a52f-2ea3e1c3c6ef",
   "metadata": {},
   "outputs": [],
   "source": [
    "## Your task 1: implement the simple version of untargeted PGD attack - make necessary changes to the following code\n",
    "import torch.optim as optim\n",
    "\n",
    "epsilon = 2./255\n",
    "\n",
    "# delta stores the generated perturbation and updates its value iteratively\n",
    "delta = \n",
    "\n",
    "for t in range(30):\n",
    "    pred = \n",
    "    loss =\n",
    "     \n",
    "    if t % 5 == 0:\n",
    "        print(t, loss.item())\n",
    "\n",
    "# pred stores the model predicted logits of the genreated adversarial example\n",
    "print(\"True class probability:\", nn.Softmax(dim=1)(pred)[0,301].item())"
   ]
  },
  {
   "cell_type": "code",
   "execution_count": null,
   "id": "bb6fe483-b04c-4681-9908-755359907d9a",
   "metadata": {},
   "outputs": [],
   "source": [
    "## check the predicted class of the generated adversarial example and its prediction probability\n",
    "max_class = pred.max(dim=1)[1].item()\n",
    "print(\"Predicted class: \", imagenet_classes[max_class])\n",
    "print(\"Predicted probability:\", nn.Softmax(dim=1)(pred)[0,max_class].item())"
   ]
  },
  {
   "cell_type": "code",
   "execution_count": null,
   "id": "e9e9cb09-292d-459c-8955-7fdc721f78c7",
   "metadata": {},
   "outputs": [],
   "source": [
    "# plot the original ladybug image\n",
    "plt.imshow(ladybug_tensor[0].detach().numpy().transpose(1,2,0))"
   ]
  },
  {
   "cell_type": "code",
   "execution_count": null,
   "id": "7523fbf1-b818-4318-8429-244ec1638c71",
   "metadata": {},
   "outputs": [],
   "source": [
    "# plot the adversarially perturbed ladybug image\n",
    "plt.imshow((ladybug_tensor + delta)[0].detach().numpy().transpose(1,2,0))"
   ]
  },
  {
   "cell_type": "code",
   "execution_count": null,
   "id": "e4ecce42-de38-4f21-834a-a0f7fad18ee4",
   "metadata": {},
   "outputs": [],
   "source": [
    "# plot the generated adversarial perturbation\n",
    "plt.imshow((50*delta+0.5)[0].detach().numpy().transpose(1,2,0))"
   ]
  },
  {
   "cell_type": "code",
   "execution_count": null,
   "id": "44f84458-aa5a-472c-943f-3766aa569aa7",
   "metadata": {},
   "outputs": [],
   "source": [
    "## Your task 2: implement the basic version of targeted attack - make necessary changes to the following code\n",
    "## Targeted label: zebra; Class index: 340\n",
    "\n",
    "delta = \n",
    "\n",
    "for t in range(100):\n",
    "    pred = \n",
    "    loss = \n",
    "\n",
    "    if t % 10 == 0:\n",
    "        print(t, loss.item())\n",
    "\n",
    "print(\"True class probability:\", nn.Softmax(dim=1)(pred)[0,301].item())"
   ]
  },
  {
   "cell_type": "code",
   "execution_count": null,
   "id": "3587f3a3-e620-4388-85a6-ea4cfdd47289",
   "metadata": {},
   "outputs": [],
   "source": [
    "## check the predicted class of the generated adversarial example and its prediction probability\n",
    "max_class = pred.max(dim=1)[1].item()\n",
    "print(\"Predicted class: \", imagenet_classes[max_class])\n",
    "print(\"Predicted probability:\", nn.Softmax(dim=1)(pred)[0,max_class].item())"
   ]
  },
  {
   "cell_type": "code",
   "execution_count": null,
   "id": "afb2e12c-85d7-46d6-abf9-f3e4399cd1ad",
   "metadata": {},
   "outputs": [],
   "source": [
    "# plot the original ladybug image\n",
    "plt.imshow(ladybug_tensor[0].detach().numpy().transpose(1,2,0))"
   ]
  },
  {
   "cell_type": "code",
   "execution_count": null,
   "id": "c2df1e2f",
   "metadata": {},
   "outputs": [],
   "source": [
    "# plot the adversarially perturbed ladybug image\n",
    "plt.imshow((ladybug_tensor + delta)[0].detach().numpy().transpose(1,2,0))"
   ]
  },
  {
   "cell_type": "code",
   "execution_count": null,
   "id": "36a0a465-4ee0-4f44-bc42-1e10461c06d4",
   "metadata": {},
   "outputs": [],
   "source": [
    "# plot the generated adversasrial perturbation\n",
    "plt.imshow((50*delta+0.5)[0].detach().numpy().transpose(1,2,0))"
   ]
  }
 ],
 "metadata": {
  "kernelspec": {
   "display_name": "Python 3",
   "language": "python",
   "name": "python3"
  },
  "language_info": {
   "codemirror_mode": {
    "name": "ipython",
    "version": 3
   },
   "file_extension": ".py",
   "mimetype": "text/x-python",
   "name": "python",
   "nbconvert_exporter": "python",
   "pygments_lexer": "ipython3",
   "version": "3.7.10"
  }
 },
 "nbformat": 4,
 "nbformat_minor": 5
}
